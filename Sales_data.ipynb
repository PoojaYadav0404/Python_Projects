{
 "cells": [
  {
   "cell_type": "code",
   "execution_count": 1,
   "id": "68190668-cb60-452f-94ac-3b24064f9ab7",
   "metadata": {},
   "outputs": [],
   "source": [
    "import pandas as pd\n",
    "import numpy as np\n",
    "import seaborn as sns\n",
    "import matplotlib.pyplot as plt\n",
    "%matplotlib inline"
   ]
  },
  {
   "cell_type": "code",
   "execution_count": 2,
   "id": "bbe379f8-49ce-4da7-a988-883b28b3becb",
   "metadata": {},
   "outputs": [],
   "source": [
    "df = pd.read_excel(r\"C:\\Users\\dmm\\OneDrive\\Desktop\\Bajato files\\Personal\\Python Project Datasets\\9. Sales-Data-Analysis.xlsx\")"
   ]
  },
  {
   "cell_type": "code",
   "execution_count": 3,
   "id": "06f91572-bb20-436d-bb16-7d8fdcffb5fc",
   "metadata": {},
   "outputs": [
    {
     "name": "stdout",
     "output_type": "stream",
     "text": [
      "<class 'pandas.core.frame.DataFrame'>\n",
      "RangeIndex: 255 entries, 0 to 254\n",
      "Data columns (total 9 columns):\n",
      " #   Column      Non-Null Count  Dtype \n",
      "---  ------      --------------  ----- \n",
      " 0   Unnamed: 0  255 non-null    object\n",
      " 1   Unnamed: 1  255 non-null    object\n",
      " 2   Unnamed: 2  255 non-null    object\n",
      " 3   Unnamed: 3  255 non-null    object\n",
      " 4   Unnamed: 4  255 non-null    object\n",
      " 5   Unnamed: 5  255 non-null    object\n",
      " 6   Unnamed: 6  255 non-null    object\n",
      " 7   Unnamed: 7  255 non-null    object\n",
      " 8   Unnamed: 8  255 non-null    object\n",
      "dtypes: object(9)\n",
      "memory usage: 18.1+ KB\n"
     ]
    }
   ],
   "source": [
    "df.info()"
   ]
  },
  {
   "cell_type": "code",
   "execution_count": 4,
   "id": "fe2b2877-1667-487a-b6b6-7e4cded21d52",
   "metadata": {},
   "outputs": [
    {
     "data": {
      "text/plain": [
       "(255, 9)"
      ]
     },
     "execution_count": 4,
     "metadata": {},
     "output_type": "execute_result"
    }
   ],
   "source": [
    "df.shape"
   ]
  },
  {
   "cell_type": "code",
   "execution_count": 5,
   "id": "31e3efaa-1235-457f-993f-fe8f9f75a6e5",
   "metadata": {},
   "outputs": [
    {
     "data": {
      "text/plain": [
       "Unnamed: 0    0\n",
       "Unnamed: 1    0\n",
       "Unnamed: 2    0\n",
       "Unnamed: 3    0\n",
       "Unnamed: 4    0\n",
       "Unnamed: 5    0\n",
       "Unnamed: 6    0\n",
       "Unnamed: 7    0\n",
       "Unnamed: 8    0\n",
       "dtype: int64"
      ]
     },
     "execution_count": 5,
     "metadata": {},
     "output_type": "execute_result"
    }
   ],
   "source": [
    "df.isnull().sum()"
   ]
  },
  {
   "cell_type": "code",
   "execution_count": 6,
   "id": "d42d57ed-e89b-4c67-8297-2cdb92ee4c46",
   "metadata": {},
   "outputs": [
    {
     "data": {
      "text/plain": [
       "Unnamed: 0          Order ID\n",
       "Unnamed: 1              Date\n",
       "Unnamed: 2           Product\n",
       "Unnamed: 3             Price\n",
       "Unnamed: 4          Quantity\n",
       "Unnamed: 5     Purchase Type\n",
       "Unnamed: 6    Payment Method\n",
       "Unnamed: 7           Manager\n",
       "Unnamed: 8              City\n",
       "Name: 0, dtype: object"
      ]
     },
     "execution_count": 6,
     "metadata": {},
     "output_type": "execute_result"
    }
   ],
   "source": [
    "df.loc[0]"
   ]
  },
  {
   "cell_type": "code",
   "execution_count": 7,
   "id": "4c30d2b3-64a8-42a6-a7fc-1149c1c1fae9",
   "metadata": {},
   "outputs": [
    {
     "data": {
      "text/plain": [
       "Index(['Unnamed: 0', 'Unnamed: 1', 'Unnamed: 2', 'Unnamed: 3', 'Unnamed: 4',\n",
       "       'Unnamed: 5', 'Unnamed: 6', 'Unnamed: 7', 'Unnamed: 8'],\n",
       "      dtype='object')"
      ]
     },
     "execution_count": 7,
     "metadata": {},
     "output_type": "execute_result"
    }
   ],
   "source": [
    "df.columns"
   ]
  },
  {
   "cell_type": "code",
   "execution_count": 8,
   "id": "5ecd2847-01f2-4f10-a008-aba631f7c3f0",
   "metadata": {},
   "outputs": [],
   "source": [
    "df.columns = df.loc[0]"
   ]
  },
  {
   "cell_type": "code",
   "execution_count": 9,
   "id": "3de873b8-d7f4-4aaa-9381-3e271ea8a709",
   "metadata": {},
   "outputs": [
    {
     "data": {
      "text/html": [
       "<div>\n",
       "<style scoped>\n",
       "    .dataframe tbody tr th:only-of-type {\n",
       "        vertical-align: middle;\n",
       "    }\n",
       "\n",
       "    .dataframe tbody tr th {\n",
       "        vertical-align: top;\n",
       "    }\n",
       "\n",
       "    .dataframe thead th {\n",
       "        text-align: right;\n",
       "    }\n",
       "</style>\n",
       "<table border=\"1\" class=\"dataframe\">\n",
       "  <thead>\n",
       "    <tr style=\"text-align: right;\">\n",
       "      <th></th>\n",
       "      <th>Order ID</th>\n",
       "      <th>Date</th>\n",
       "      <th>Product</th>\n",
       "      <th>Price</th>\n",
       "      <th>Quantity</th>\n",
       "      <th>Purchase Type</th>\n",
       "      <th>Payment Method</th>\n",
       "      <th>Manager</th>\n",
       "      <th>City</th>\n",
       "    </tr>\n",
       "  </thead>\n",
       "  <tbody>\n",
       "    <tr>\n",
       "      <th>0</th>\n",
       "      <td>Order ID</td>\n",
       "      <td>Date</td>\n",
       "      <td>Product</td>\n",
       "      <td>Price</td>\n",
       "      <td>Quantity</td>\n",
       "      <td>Purchase Type</td>\n",
       "      <td>Payment Method</td>\n",
       "      <td>Manager</td>\n",
       "      <td>City</td>\n",
       "    </tr>\n",
       "    <tr>\n",
       "      <th>1</th>\n",
       "      <td>10452</td>\n",
       "      <td>2022-11-07 00:00:00</td>\n",
       "      <td>Fries</td>\n",
       "      <td>3.49</td>\n",
       "      <td>573.07</td>\n",
       "      <td>Online</td>\n",
       "      <td>Gift Card</td>\n",
       "      <td>Tom      Jackson</td>\n",
       "      <td>London</td>\n",
       "    </tr>\n",
       "    <tr>\n",
       "      <th>2</th>\n",
       "      <td>10453</td>\n",
       "      <td>2022-11-07 00:00:00</td>\n",
       "      <td>Beverages</td>\n",
       "      <td>2.95</td>\n",
       "      <td>745.76</td>\n",
       "      <td>Online</td>\n",
       "      <td>Gift Card</td>\n",
       "      <td>Pablo Perez</td>\n",
       "      <td>Madrid</td>\n",
       "    </tr>\n",
       "    <tr>\n",
       "      <th>3</th>\n",
       "      <td>10454</td>\n",
       "      <td>2022-11-07 00:00:00</td>\n",
       "      <td>Sides &amp; Other</td>\n",
       "      <td>4.99</td>\n",
       "      <td>200.4</td>\n",
       "      <td>In-store</td>\n",
       "      <td>Gift Card</td>\n",
       "      <td>Joao    Silva</td>\n",
       "      <td>Lisbon</td>\n",
       "    </tr>\n",
       "    <tr>\n",
       "      <th>4</th>\n",
       "      <td>10455</td>\n",
       "      <td>2022-11-08 00:00:00</td>\n",
       "      <td>Burgers</td>\n",
       "      <td>12.99</td>\n",
       "      <td>569.67</td>\n",
       "      <td>In-store</td>\n",
       "      <td>Credit Card</td>\n",
       "      <td>Walter Muller</td>\n",
       "      <td>Berlin</td>\n",
       "    </tr>\n",
       "    <tr>\n",
       "      <th>...</th>\n",
       "      <td>...</td>\n",
       "      <td>...</td>\n",
       "      <td>...</td>\n",
       "      <td>...</td>\n",
       "      <td>...</td>\n",
       "      <td>...</td>\n",
       "      <td>...</td>\n",
       "      <td>...</td>\n",
       "      <td>...</td>\n",
       "    </tr>\n",
       "    <tr>\n",
       "      <th>250</th>\n",
       "      <td>10709</td>\n",
       "      <td>2022-12-28 00:00:00</td>\n",
       "      <td>Sides &amp; Other</td>\n",
       "      <td>4.99</td>\n",
       "      <td>200.4</td>\n",
       "      <td>Drive-thru</td>\n",
       "      <td>Gift Card</td>\n",
       "      <td>Walter Muller</td>\n",
       "      <td>Berlin</td>\n",
       "    </tr>\n",
       "    <tr>\n",
       "      <th>251</th>\n",
       "      <td>10710</td>\n",
       "      <td>2022-12-29 00:00:00</td>\n",
       "      <td>Burgers</td>\n",
       "      <td>12.99</td>\n",
       "      <td>754.43</td>\n",
       "      <td>Drive-thru</td>\n",
       "      <td>Gift Card</td>\n",
       "      <td>Walter Muller</td>\n",
       "      <td>Berlin</td>\n",
       "    </tr>\n",
       "    <tr>\n",
       "      <th>252</th>\n",
       "      <td>10711</td>\n",
       "      <td>2022-12-29 00:00:00</td>\n",
       "      <td>Chicken Sandwiches</td>\n",
       "      <td>9.95</td>\n",
       "      <td>281.41</td>\n",
       "      <td>Drive-thru</td>\n",
       "      <td>Gift Card</td>\n",
       "      <td>Walter Muller</td>\n",
       "      <td>Berlin</td>\n",
       "    </tr>\n",
       "    <tr>\n",
       "      <th>253</th>\n",
       "      <td>10712</td>\n",
       "      <td>2022-12-29 00:00:00</td>\n",
       "      <td>Fries</td>\n",
       "      <td>3.49</td>\n",
       "      <td>630.37</td>\n",
       "      <td>Drive-thru</td>\n",
       "      <td>Gift Card</td>\n",
       "      <td>Walter Muller</td>\n",
       "      <td>Berlin</td>\n",
       "    </tr>\n",
       "    <tr>\n",
       "      <th>254</th>\n",
       "      <td>10713</td>\n",
       "      <td>2022-12-29 00:00:00</td>\n",
       "      <td>Beverages</td>\n",
       "      <td>2.95</td>\n",
       "      <td>677.97</td>\n",
       "      <td>Drive-thru</td>\n",
       "      <td>Gift Card</td>\n",
       "      <td>Walter Muller</td>\n",
       "      <td>Berlin</td>\n",
       "    </tr>\n",
       "  </tbody>\n",
       "</table>\n",
       "<p>255 rows × 9 columns</p>\n",
       "</div>"
      ],
      "text/plain": [
       "0    Order ID                 Date             Product  Price  Quantity  \\\n",
       "0    Order ID                 Date             Product  Price  Quantity   \n",
       "1       10452  2022-11-07 00:00:00               Fries   3.49    573.07   \n",
       "2       10453  2022-11-07 00:00:00           Beverages   2.95    745.76   \n",
       "3       10454  2022-11-07 00:00:00       Sides & Other   4.99     200.4   \n",
       "4       10455  2022-11-08 00:00:00             Burgers  12.99    569.67   \n",
       "..        ...                  ...                 ...    ...       ...   \n",
       "250     10709  2022-12-28 00:00:00       Sides & Other   4.99     200.4   \n",
       "251     10710  2022-12-29 00:00:00             Burgers  12.99    754.43   \n",
       "252     10711  2022-12-29 00:00:00  Chicken Sandwiches   9.95    281.41   \n",
       "253     10712  2022-12-29 00:00:00               Fries   3.49    630.37   \n",
       "254     10713  2022-12-29 00:00:00           Beverages   2.95    677.97   \n",
       "\n",
       "0    Purchase Type  Payment Method             Manager    City  \n",
       "0    Purchase Type  Payment Method             Manager    City  \n",
       "1          Online        Gift Card    Tom      Jackson  London  \n",
       "2          Online        Gift Card         Pablo Perez  Madrid  \n",
       "3        In-store        Gift Card       Joao    Silva  Lisbon  \n",
       "4        In-store      Credit Card       Walter Muller  Berlin  \n",
       "..             ...             ...                 ...     ...  \n",
       "250    Drive-thru        Gift Card       Walter Muller  Berlin  \n",
       "251    Drive-thru        Gift Card       Walter Muller  Berlin  \n",
       "252    Drive-thru        Gift Card       Walter Muller  Berlin  \n",
       "253    Drive-thru        Gift Card       Walter Muller  Berlin  \n",
       "254    Drive-thru        Gift Card       Walter Muller  Berlin  \n",
       "\n",
       "[255 rows x 9 columns]"
      ]
     },
     "execution_count": 9,
     "metadata": {},
     "output_type": "execute_result"
    }
   ],
   "source": [
    "df"
   ]
  },
  {
   "cell_type": "code",
   "execution_count": 10,
   "id": "722e41cc-0e93-4ca6-a75e-bc52d6f5cc0a",
   "metadata": {},
   "outputs": [],
   "source": [
    "df.drop(index = 0, inplace = True)"
   ]
  },
  {
   "cell_type": "code",
   "execution_count": 11,
   "id": "aef1b5f2-ca29-4f67-9bbb-138d7bd2a80f",
   "metadata": {},
   "outputs": [
    {
     "name": "stdout",
     "output_type": "stream",
     "text": [
      "<class 'pandas.core.frame.DataFrame'>\n",
      "RangeIndex: 254 entries, 1 to 254\n",
      "Data columns (total 9 columns):\n",
      " #   Column          Non-Null Count  Dtype \n",
      "---  ------          --------------  ----- \n",
      " 0   Order ID        254 non-null    object\n",
      " 1   Date            254 non-null    object\n",
      " 2   Product         254 non-null    object\n",
      " 3   Price           254 non-null    object\n",
      " 4   Quantity        254 non-null    object\n",
      " 5   Purchase Type   254 non-null    object\n",
      " 6   Payment Method  254 non-null    object\n",
      " 7   Manager         254 non-null    object\n",
      " 8   City            254 non-null    object\n",
      "dtypes: object(9)\n",
      "memory usage: 18.0+ KB\n"
     ]
    }
   ],
   "source": [
    "df.info()"
   ]
  },
  {
   "cell_type": "code",
   "execution_count": 12,
   "id": "922b933f-2336-4a2f-b930-b5b529441ba8",
   "metadata": {},
   "outputs": [
    {
     "data": {
      "text/plain": [
       "array(['Tom      Jackson', '       Pablo Perez', 'Joao    Silva',\n",
       "       'Walter Muller', 'Remy    Monet', 'Remy Monet',\n",
       "       '       Remy Monet', 'Remy     Monet', 'Pablo Perez',\n",
       "       'Pablo   Perez', 'Pablo  Perez', 'Pablo    Perez', 'Joao Silva',\n",
       "       'Tom Jackson'], dtype=object)"
      ]
     },
     "execution_count": 12,
     "metadata": {},
     "output_type": "execute_result"
    }
   ],
   "source": [
    "df.Manager.unique()"
   ]
  },
  {
   "cell_type": "code",
   "execution_count": 13,
   "id": "c527e275-8eba-43ae-a8ce-d93e65452e0c",
   "metadata": {},
   "outputs": [
    {
     "data": {
      "text/plain": [
       "14"
      ]
     },
     "execution_count": 13,
     "metadata": {},
     "output_type": "execute_result"
    }
   ],
   "source": [
    "df.Manager.nunique()"
   ]
  },
  {
   "cell_type": "code",
   "execution_count": 14,
   "id": "cae6b749-6d86-4e08-92c4-7c0e56d974d4",
   "metadata": {},
   "outputs": [],
   "source": [
    "df[\"Manager\"] = df[\"Manager\"].str.strip().str.replace(r\"\\s+\", \" \", regex = True)"
   ]
  },
  {
   "cell_type": "code",
   "execution_count": 15,
   "id": "dad91f43-619d-4975-b1dd-59e10501b3c1",
   "metadata": {},
   "outputs": [
    {
     "data": {
      "text/plain": [
       "array(['Tom Jackson', 'Pablo Perez', 'Joao Silva', 'Walter Muller',\n",
       "       'Remy Monet'], dtype=object)"
      ]
     },
     "execution_count": 15,
     "metadata": {},
     "output_type": "execute_result"
    }
   ],
   "source": [
    "df[\"Manager\"].unique()"
   ]
  },
  {
   "cell_type": "code",
   "execution_count": 16,
   "id": "efdf1619-96c8-42cf-821b-7bf555a350f5",
   "metadata": {},
   "outputs": [
    {
     "data": {
      "text/html": [
       "<div>\n",
       "<style scoped>\n",
       "    .dataframe tbody tr th:only-of-type {\n",
       "        vertical-align: middle;\n",
       "    }\n",
       "\n",
       "    .dataframe tbody tr th {\n",
       "        vertical-align: top;\n",
       "    }\n",
       "\n",
       "    .dataframe thead th {\n",
       "        text-align: right;\n",
       "    }\n",
       "</style>\n",
       "<table border=\"1\" class=\"dataframe\">\n",
       "  <thead>\n",
       "    <tr style=\"text-align: right;\">\n",
       "      <th></th>\n",
       "      <th>Order ID</th>\n",
       "      <th>Date</th>\n",
       "      <th>Product</th>\n",
       "      <th>Price</th>\n",
       "      <th>Quantity</th>\n",
       "      <th>Purchase Type</th>\n",
       "      <th>Payment Method</th>\n",
       "      <th>Manager</th>\n",
       "      <th>City</th>\n",
       "    </tr>\n",
       "  </thead>\n",
       "  <tbody>\n",
       "  </tbody>\n",
       "</table>\n",
       "</div>"
      ],
      "text/plain": [
       "Empty DataFrame\n",
       "Columns: [Order ID, Date, Product, Price, Quantity, Purchase Type, Payment Method, Manager, City]\n",
       "Index: []"
      ]
     },
     "execution_count": 16,
     "metadata": {},
     "output_type": "execute_result"
    }
   ],
   "source": [
    "df[df.duplicated()]"
   ]
  },
  {
   "cell_type": "code",
   "execution_count": 17,
   "id": "31dd581b-7777-43e9-92b4-3554ab447f7e",
   "metadata": {},
   "outputs": [],
   "source": [
    "# df.drop_duplicates()"
   ]
  },
  {
   "cell_type": "code",
   "execution_count": 18,
   "id": "7bcc23cb-85cf-465b-8432-4713b167da8f",
   "metadata": {},
   "outputs": [
    {
     "data": {
      "text/plain": [
       "0\n",
       "Order ID          object\n",
       "Date              object\n",
       "Product           object\n",
       "Price             object\n",
       "Quantity          object\n",
       "Purchase Type     object\n",
       "Payment Method    object\n",
       "Manager           object\n",
       "City              object\n",
       "dtype: object"
      ]
     },
     "execution_count": 18,
     "metadata": {},
     "output_type": "execute_result"
    }
   ],
   "source": [
    "# converting data types\n",
    "\n",
    "df.dtypes"
   ]
  },
  {
   "cell_type": "code",
   "execution_count": 44,
   "id": "937015c0-947c-4eee-91c6-cde548a54c12",
   "metadata": {},
   "outputs": [],
   "source": [
    "df[\"Quantity\"] = df[\"Quantity\"].round()"
   ]
  },
  {
   "cell_type": "code",
   "execution_count": 52,
   "id": "e480bcdb-ed3e-480c-a49b-2500217d7d43",
   "metadata": {},
   "outputs": [],
   "source": [
    "num_col = [\"Price\", \"Quantity\", \"Order ID\"]\n",
    "df[num_col] = df[num_col].apply(pd.to_numeric )"
   ]
  },
  {
   "cell_type": "code",
   "execution_count": 54,
   "id": "273c9216-ebbd-403e-b75e-4b2f1ebe2387",
   "metadata": {},
   "outputs": [
    {
     "data": {
      "text/plain": [
       "0\n",
       "Order ID            int64\n",
       "Date               object\n",
       "Product            object\n",
       "Price             float64\n",
       "Quantity          float64\n",
       "Purchase Type      object\n",
       "Payment Method     object\n",
       "Manager            object\n",
       "City               object\n",
       "dtype: object"
      ]
     },
     "execution_count": 54,
     "metadata": {},
     "output_type": "execute_result"
    }
   ],
   "source": [
    "df.dtypes"
   ]
  },
  {
   "cell_type": "code",
   "execution_count": 56,
   "id": "a9d4b99b-1e6a-475a-96e0-7c04664f9f8e",
   "metadata": {},
   "outputs": [],
   "source": [
    "df[\"Quantity\"] = df[\"Quantity\"].astype(int)"
   ]
  },
  {
   "cell_type": "code",
   "execution_count": 58,
   "id": "ba5c5d6e-4af4-4e12-bcaa-1bc1e3ae5de4",
   "metadata": {},
   "outputs": [
    {
     "data": {
      "text/plain": [
       "0\n",
       "Order ID            int64\n",
       "Date               object\n",
       "Product            object\n",
       "Price             float64\n",
       "Quantity            int32\n",
       "Purchase Type      object\n",
       "Payment Method     object\n",
       "Manager            object\n",
       "City               object\n",
       "dtype: object"
      ]
     },
     "execution_count": 58,
     "metadata": {},
     "output_type": "execute_result"
    }
   ],
   "source": [
    "df.dtypes"
   ]
  },
  {
   "cell_type": "code",
   "execution_count": 62,
   "id": "e4583b52-6c59-434b-8920-e91b5caac619",
   "metadata": {},
   "outputs": [],
   "source": [
    "df[\"Date\"] = pd.to_datetime(df[\"Date\"])"
   ]
  },
  {
   "cell_type": "code",
   "execution_count": 66,
   "id": "335ed9bf-e65b-4814-a01a-708f3d2a4457",
   "metadata": {},
   "outputs": [
    {
     "data": {
      "text/plain": [
       "0\n",
       "Order ID                   int64\n",
       "Date              datetime64[ns]\n",
       "Product                   object\n",
       "Price                    float64\n",
       "Quantity                   int32\n",
       "Purchase Type             object\n",
       "Payment Method            object\n",
       "Manager                   object\n",
       "City                      object\n",
       "dtype: object"
      ]
     },
     "execution_count": 66,
     "metadata": {},
     "output_type": "execute_result"
    }
   ],
   "source": [
    "df.dtypes"
   ]
  },
  {
   "cell_type": "markdown",
   "id": "153f08fb-fab2-46f5-b853-f2aba7ca3cb2",
   "metadata": {},
   "source": [
    "# most prefered payment method"
   ]
  },
  {
   "cell_type": "code",
   "execution_count": 73,
   "id": "8b0bc26a-d4a6-488a-bbb2-97e7fe74a972",
   "metadata": {},
   "outputs": [
    {
     "data": {
      "text/plain": [
       "Payment Method\n",
       "Credit Card    120\n",
       "Cash            76\n",
       "Gift Card       58\n",
       "Name: count, dtype: int64"
      ]
     },
     "execution_count": 73,
     "metadata": {},
     "output_type": "execute_result"
    }
   ],
   "source": [
    "df[\"Payment Method\"].value_counts()"
   ]
  },
  {
   "cell_type": "code",
   "execution_count": 77,
   "id": "d4080b20-c7ae-4d9a-ba98-477c9c66c177",
   "metadata": {},
   "outputs": [
    {
     "data": {
      "text/plain": [
       "Payment Method\n",
       "Credit Card    47.244094\n",
       "Cash           29.921260\n",
       "Gift Card      22.834646\n",
       "Name: proportion, dtype: float64"
      ]
     },
     "execution_count": 77,
     "metadata": {},
     "output_type": "execute_result"
    }
   ],
   "source": [
    "df[\"Payment Method\"].value_counts(normalize=True)*100"
   ]
  },
  {
   "cell_type": "code",
   "execution_count": 85,
   "id": "58f9708b-bfde-4fa0-9917-d998a003cc18",
   "metadata": {},
   "outputs": [
    {
     "data": {
      "image/png": "[encoded data removed]",
      "text/plain": [
       "<Figure size 640x480 with 1 Axes>"
      ]
     },
     "metadata": {},
     "output_type": "display_data"
    }
   ],
   "source": [
    "df[\"Payment Method\"].value_counts().plot(kind = 'bar')\n",
    "plt.show()"
   ]
  },
  {
   "cell_type": "markdown",
   "id": "7f2b0e52-b76c-43d8-b8eb-a3dc8a2f3bb2",
   "metadata": {},
   "source": [
    "# most selling Product?\n",
    "# by quality\n",
    "# by revenue"
   ]
  },
  {
   "cell_type": "code",
   "execution_count": 102,
   "id": "8d5e866a-843b-4e45-979c-f050bb23551d",
   "metadata": {},
   "outputs": [
    {
     "data": {
      "text/plain": [
       "Product\n",
       "Beverages             34988\n",
       "Fries                 32023\n",
       "Burgers               29018\n",
       "Chicken Sandwiches    11133\n",
       "Sides & Other          9800\n",
       "Name: Quantity, dtype: int32"
      ]
     },
     "execution_count": 102,
     "metadata": {},
     "output_type": "execute_result"
    }
   ],
   "source": [
    "df.groupby(\"Product\")[\"Quantity\"].sum().sort_values(ascending = False)"
   ]
  },
  {
   "cell_type": "code",
   "execution_count": 96,
   "id": "bb191987-27a1-4793-bc13-8736db4d0b45",
   "metadata": {},
   "outputs": [],
   "source": [
    "df[\"Revenue\"] = df[\"Price\"] * df[\"Quantity\"]"
   ]
  },
  {
   "cell_type": "code",
   "execution_count": 108,
   "id": "17ea8f40-ef7a-4bd2-961c-892124a004a3",
   "metadata": {},
   "outputs": [
    {
     "data": {
      "text/html": [
       "<div>\n",
       "<style scoped>\n",
       "    .dataframe tbody tr th:only-of-type {\n",
       "        vertical-align: middle;\n",
       "    }\n",
       "\n",
       "    .dataframe tbody tr th {\n",
       "        vertical-align: top;\n",
       "    }\n",
       "\n",
       "    .dataframe thead th {\n",
       "        text-align: right;\n",
       "    }\n",
       "</style>\n",
       "<table border=\"1\" class=\"dataframe\">\n",
       "  <thead>\n",
       "    <tr style=\"text-align: right;\">\n",
       "      <th></th>\n",
       "      <th>Product</th>\n",
       "      <th>Revenue</th>\n",
       "    </tr>\n",
       "  </thead>\n",
       "  <tbody>\n",
       "    <tr>\n",
       "      <th>0</th>\n",
       "      <td>Burgers</td>\n",
       "      <td>376943.82</td>\n",
       "    </tr>\n",
       "    <tr>\n",
       "      <th>1</th>\n",
       "      <td>Fries</td>\n",
       "      <td>125626.57</td>\n",
       "    </tr>\n",
       "    <tr>\n",
       "      <th>2</th>\n",
       "      <td>Chicken Sandwiches</td>\n",
       "      <td>114612.45</td>\n",
       "    </tr>\n",
       "    <tr>\n",
       "      <th>3</th>\n",
       "      <td>Beverages</td>\n",
       "      <td>103214.60</td>\n",
       "    </tr>\n",
       "    <tr>\n",
       "      <th>4</th>\n",
       "      <td>Sides &amp; Other</td>\n",
       "      <td>48902.00</td>\n",
       "    </tr>\n",
       "  </tbody>\n",
       "</table>\n",
       "</div>"
      ],
      "text/plain": [
       "              Product    Revenue\n",
       "0             Burgers  376943.82\n",
       "1               Fries  125626.57\n",
       "2  Chicken Sandwiches  114612.45\n",
       "3           Beverages  103214.60\n",
       "4       Sides & Other   48902.00"
      ]
     },
     "execution_count": 108,
     "metadata": {},
     "output_type": "execute_result"
    }
   ],
   "source": [
    "df.groupby(\"Product\")[\"Revenue\"].sum().sort_values(ascending = False).reset_index()"
   ]
  },
  {
   "cell_type": "markdown",
   "id": "f68ee440-e444-4437-82a4-a653629bfe9b",
   "metadata": {},
   "source": [
    "# which city has maximum revenue"
   ]
  },
  {
   "cell_type": "code",
   "execution_count": 113,
   "id": "928919e7-4945-4f1f-bbd0-66369a0eabd0",
   "metadata": {},
   "outputs": [
    {
     "data": {
      "text/plain": [
       "City\n",
       "Lisbon    241635.49\n",
       "London    211160.04\n",
       "Madrid    136154.24\n",
       "Berlin    100572.34\n",
       "Paris      79777.33\n",
       "Name: Revenue, dtype: float64"
      ]
     },
     "execution_count": 113,
     "metadata": {},
     "output_type": "execute_result"
    }
   ],
   "source": [
    "df.groupby(\"City\")[\"Revenue\"].sum().sort_values(ascending = False)"
   ]
  },
  {
   "cell_type": "markdown",
   "id": "b267edc1-6660-4e7f-8012-9df35884c7bd",
   "metadata": {},
   "source": [
    "# which manager more revenue"
   ]
  },
  {
   "cell_type": "code",
   "execution_count": 118,
   "id": "009199a8-c1d3-4382-b3e8-67a6cc75ae79",
   "metadata": {},
   "outputs": [
    {
     "data": {
      "text/plain": [
       "Manager\n",
       "Joao Silva       241635.49\n",
       "Tom Jackson      211160.04\n",
       "Pablo Perez      136154.24\n",
       "Walter Muller    100572.34\n",
       "Remy Monet        79777.33\n",
       "Name: Revenue, dtype: float64"
      ]
     },
     "execution_count": 118,
     "metadata": {},
     "output_type": "execute_result"
    }
   ],
   "source": [
    "df.groupby(\"Manager\")[\"Revenue\"].sum().sort_values(ascending = False)"
   ]
  },
  {
   "cell_type": "markdown",
   "id": "f3ee90af-0c58-4eb6-a221-4fd8bb495a90",
   "metadata": {},
   "source": [
    "# date wise revenue"
   ]
  },
  {
   "cell_type": "code",
   "execution_count": 125,
   "id": "d207c02b-ec60-4bcb-898f-2fdb8d3b5d20",
   "metadata": {},
   "outputs": [
    {
     "data": {
      "text/html": [
       "<div>\n",
       "<style scoped>\n",
       "    .dataframe tbody tr th:only-of-type {\n",
       "        vertical-align: middle;\n",
       "    }\n",
       "\n",
       "    .dataframe tbody tr th {\n",
       "        vertical-align: top;\n",
       "    }\n",
       "\n",
       "    .dataframe thead th {\n",
       "        text-align: right;\n",
       "    }\n",
       "</style>\n",
       "<table border=\"1\" class=\"dataframe\">\n",
       "  <thead>\n",
       "    <tr style=\"text-align: right;\">\n",
       "      <th></th>\n",
       "      <th>Date</th>\n",
       "      <th>Revenue</th>\n",
       "    </tr>\n",
       "  </thead>\n",
       "  <tbody>\n",
       "    <tr>\n",
       "      <th>0</th>\n",
       "      <td>2022-11-07</td>\n",
       "      <td>5198.47</td>\n",
       "    </tr>\n",
       "    <tr>\n",
       "      <th>1</th>\n",
       "      <td>2022-11-08</td>\n",
       "      <td>12402.02</td>\n",
       "    </tr>\n",
       "    <tr>\n",
       "      <th>2</th>\n",
       "      <td>2022-11-09</td>\n",
       "      <td>14194.28</td>\n",
       "    </tr>\n",
       "    <tr>\n",
       "      <th>3</th>\n",
       "      <td>2022-11-10</td>\n",
       "      <td>13196.28</td>\n",
       "    </tr>\n",
       "    <tr>\n",
       "      <th>4</th>\n",
       "      <td>2022-11-11</td>\n",
       "      <td>14393.21</td>\n",
       "    </tr>\n",
       "    <tr>\n",
       "      <th>5</th>\n",
       "      <td>2022-11-12</td>\n",
       "      <td>13990.52</td>\n",
       "    </tr>\n",
       "    <tr>\n",
       "      <th>6</th>\n",
       "      <td>2022-11-13</td>\n",
       "      <td>27661.97</td>\n",
       "    </tr>\n",
       "    <tr>\n",
       "      <th>7</th>\n",
       "      <td>2022-11-14</td>\n",
       "      <td>17829.62</td>\n",
       "    </tr>\n",
       "    <tr>\n",
       "      <th>8</th>\n",
       "      <td>2022-11-15</td>\n",
       "      <td>13596.74</td>\n",
       "    </tr>\n",
       "    <tr>\n",
       "      <th>9</th>\n",
       "      <td>2022-11-16</td>\n",
       "      <td>13596.74</td>\n",
       "    </tr>\n",
       "    <tr>\n",
       "      <th>10</th>\n",
       "      <td>2022-11-17</td>\n",
       "      <td>13990.52</td>\n",
       "    </tr>\n",
       "    <tr>\n",
       "      <th>11</th>\n",
       "      <td>2022-11-18</td>\n",
       "      <td>14400.78</td>\n",
       "    </tr>\n",
       "    <tr>\n",
       "      <th>12</th>\n",
       "      <td>2022-11-19</td>\n",
       "      <td>13998.09</td>\n",
       "    </tr>\n",
       "    <tr>\n",
       "      <th>13</th>\n",
       "      <td>2022-11-20</td>\n",
       "      <td>8196.18</td>\n",
       "    </tr>\n",
       "    <tr>\n",
       "      <th>14</th>\n",
       "      <td>2022-11-21</td>\n",
       "      <td>14003.84</td>\n",
       "    </tr>\n",
       "    <tr>\n",
       "      <th>15</th>\n",
       "      <td>2022-11-22</td>\n",
       "      <td>13601.15</td>\n",
       "    </tr>\n",
       "    <tr>\n",
       "      <th>16</th>\n",
       "      <td>2022-11-23</td>\n",
       "      <td>13796.00</td>\n",
       "    </tr>\n",
       "    <tr>\n",
       "      <th>17</th>\n",
       "      <td>2022-11-24</td>\n",
       "      <td>13593.58</td>\n",
       "    </tr>\n",
       "    <tr>\n",
       "      <th>18</th>\n",
       "      <td>2022-11-25</td>\n",
       "      <td>13398.73</td>\n",
       "    </tr>\n",
       "    <tr>\n",
       "      <th>19</th>\n",
       "      <td>2022-11-26</td>\n",
       "      <td>13190.89</td>\n",
       "    </tr>\n",
       "    <tr>\n",
       "      <th>20</th>\n",
       "      <td>2022-11-27</td>\n",
       "      <td>13398.73</td>\n",
       "    </tr>\n",
       "    <tr>\n",
       "      <th>21</th>\n",
       "      <td>2022-11-28</td>\n",
       "      <td>13392.98</td>\n",
       "    </tr>\n",
       "    <tr>\n",
       "      <th>22</th>\n",
       "      <td>2022-11-29</td>\n",
       "      <td>13392.98</td>\n",
       "    </tr>\n",
       "    <tr>\n",
       "      <th>23</th>\n",
       "      <td>2022-11-30</td>\n",
       "      <td>13600.82</td>\n",
       "    </tr>\n",
       "    <tr>\n",
       "      <th>24</th>\n",
       "      <td>2022-12-01</td>\n",
       "      <td>13401.89</td>\n",
       "    </tr>\n",
       "    <tr>\n",
       "      <th>25</th>\n",
       "      <td>2022-12-02</td>\n",
       "      <td>13990.52</td>\n",
       "    </tr>\n",
       "    <tr>\n",
       "      <th>26</th>\n",
       "      <td>2022-12-03</td>\n",
       "      <td>13990.52</td>\n",
       "    </tr>\n",
       "    <tr>\n",
       "      <th>27</th>\n",
       "      <td>2022-12-04</td>\n",
       "      <td>9001.56</td>\n",
       "    </tr>\n",
       "    <tr>\n",
       "      <th>28</th>\n",
       "      <td>2022-12-05</td>\n",
       "      <td>14194.28</td>\n",
       "    </tr>\n",
       "    <tr>\n",
       "      <th>29</th>\n",
       "      <td>2022-12-06</td>\n",
       "      <td>13999.43</td>\n",
       "    </tr>\n",
       "    <tr>\n",
       "      <th>30</th>\n",
       "      <td>2022-12-07</td>\n",
       "      <td>13990.52</td>\n",
       "    </tr>\n",
       "    <tr>\n",
       "      <th>31</th>\n",
       "      <td>2022-12-08</td>\n",
       "      <td>14198.36</td>\n",
       "    </tr>\n",
       "    <tr>\n",
       "      <th>32</th>\n",
       "      <td>2022-12-09</td>\n",
       "      <td>14601.05</td>\n",
       "    </tr>\n",
       "    <tr>\n",
       "      <th>33</th>\n",
       "      <td>2022-12-10</td>\n",
       "      <td>14601.05</td>\n",
       "    </tr>\n",
       "    <tr>\n",
       "      <th>34</th>\n",
       "      <td>2022-12-11</td>\n",
       "      <td>14996.50</td>\n",
       "    </tr>\n",
       "    <tr>\n",
       "      <th>35</th>\n",
       "      <td>2022-12-12</td>\n",
       "      <td>14601.05</td>\n",
       "    </tr>\n",
       "    <tr>\n",
       "      <th>36</th>\n",
       "      <td>2022-12-13</td>\n",
       "      <td>14601.05</td>\n",
       "    </tr>\n",
       "    <tr>\n",
       "      <th>37</th>\n",
       "      <td>2022-12-14</td>\n",
       "      <td>14592.21</td>\n",
       "    </tr>\n",
       "    <tr>\n",
       "      <th>38</th>\n",
       "      <td>2022-12-15</td>\n",
       "      <td>14397.36</td>\n",
       "    </tr>\n",
       "    <tr>\n",
       "      <th>39</th>\n",
       "      <td>2022-12-16</td>\n",
       "      <td>15000.65</td>\n",
       "    </tr>\n",
       "    <tr>\n",
       "      <th>40</th>\n",
       "      <td>2022-12-17</td>\n",
       "      <td>15397.92</td>\n",
       "    </tr>\n",
       "    <tr>\n",
       "      <th>41</th>\n",
       "      <td>2022-12-18</td>\n",
       "      <td>15592.77</td>\n",
       "    </tr>\n",
       "    <tr>\n",
       "      <th>42</th>\n",
       "      <td>2022-12-19</td>\n",
       "      <td>15793.04</td>\n",
       "    </tr>\n",
       "    <tr>\n",
       "      <th>43</th>\n",
       "      <td>2022-12-20</td>\n",
       "      <td>16000.88</td>\n",
       "    </tr>\n",
       "    <tr>\n",
       "      <th>44</th>\n",
       "      <td>2022-12-21</td>\n",
       "      <td>16390.58</td>\n",
       "    </tr>\n",
       "    <tr>\n",
       "      <th>45</th>\n",
       "      <td>2022-12-22</td>\n",
       "      <td>16589.58</td>\n",
       "    </tr>\n",
       "    <tr>\n",
       "      <th>46</th>\n",
       "      <td>2022-12-23</td>\n",
       "      <td>15999.28</td>\n",
       "    </tr>\n",
       "    <tr>\n",
       "      <th>47</th>\n",
       "      <td>2022-12-24</td>\n",
       "      <td>16388.98</td>\n",
       "    </tr>\n",
       "    <tr>\n",
       "      <th>48</th>\n",
       "      <td>2022-12-25</td>\n",
       "      <td>16587.98</td>\n",
       "    </tr>\n",
       "    <tr>\n",
       "      <th>49</th>\n",
       "      <td>2022-12-26</td>\n",
       "      <td>16994.82</td>\n",
       "    </tr>\n",
       "    <tr>\n",
       "      <th>50</th>\n",
       "      <td>2022-12-27</td>\n",
       "      <td>16994.82</td>\n",
       "    </tr>\n",
       "    <tr>\n",
       "      <th>51</th>\n",
       "      <td>2022-12-28</td>\n",
       "      <td>17606.46</td>\n",
       "    </tr>\n",
       "    <tr>\n",
       "      <th>52</th>\n",
       "      <td>2022-12-29</td>\n",
       "      <td>16789.21</td>\n",
       "    </tr>\n",
       "  </tbody>\n",
       "</table>\n",
       "</div>"
      ],
      "text/plain": [
       "         Date   Revenue\n",
       "0  2022-11-07   5198.47\n",
       "1  2022-11-08  12402.02\n",
       "2  2022-11-09  14194.28\n",
       "3  2022-11-10  13196.28\n",
       "4  2022-11-11  14393.21\n",
       "5  2022-11-12  13990.52\n",
       "6  2022-11-13  27661.97\n",
       "7  2022-11-14  17829.62\n",
       "8  2022-11-15  13596.74\n",
       "9  2022-11-16  13596.74\n",
       "10 2022-11-17  13990.52\n",
       "11 2022-11-18  14400.78\n",
       "12 2022-11-19  13998.09\n",
       "13 2022-11-20   8196.18\n",
       "14 2022-11-21  14003.84\n",
       "15 2022-11-22  13601.15\n",
       "16 2022-11-23  13796.00\n",
       "17 2022-11-24  13593.58\n",
       "18 2022-11-25  13398.73\n",
       "19 2022-11-26  13190.89\n",
       "20 2022-11-27  13398.73\n",
       "21 2022-11-28  13392.98\n",
       "22 2022-11-29  13392.98\n",
       "23 2022-11-30  13600.82\n",
       "24 2022-12-01  13401.89\n",
       "25 2022-12-02  13990.52\n",
       "26 2022-12-03  13990.52\n",
       "27 2022-12-04   9001.56\n",
       "28 2022-12-05  14194.28\n",
       "29 2022-12-06  13999.43\n",
       "30 2022-12-07  13990.52\n",
       "31 2022-12-08  14198.36\n",
       "32 2022-12-09  14601.05\n",
       "33 2022-12-10  14601.05\n",
       "34 2022-12-11  14996.50\n",
       "35 2022-12-12  14601.05\n",
       "36 2022-12-13  14601.05\n",
       "37 2022-12-14  14592.21\n",
       "38 2022-12-15  14397.36\n",
       "39 2022-12-16  15000.65\n",
       "40 2022-12-17  15397.92\n",
       "41 2022-12-18  15592.77\n",
       "42 2022-12-19  15793.04\n",
       "43 2022-12-20  16000.88\n",
       "44 2022-12-21  16390.58\n",
       "45 2022-12-22  16589.58\n",
       "46 2022-12-23  15999.28\n",
       "47 2022-12-24  16388.98\n",
       "48 2022-12-25  16587.98\n",
       "49 2022-12-26  16994.82\n",
       "50 2022-12-27  16994.82\n",
       "51 2022-12-28  17606.46\n",
       "52 2022-12-29  16789.21"
      ]
     },
     "execution_count": 125,
     "metadata": {},
     "output_type": "execute_result"
    }
   ],
   "source": [
    "df.groupby(\"Date\")[\"Revenue\"].sum().reset_index()"
   ]
  },
  {
   "cell_type": "code",
   "execution_count": 127,
   "id": "085fe834-f96f-436d-9ce4-c977fe072bd3",
   "metadata": {},
   "outputs": [
    {
     "data": {
      "text/plain": [
       "3028.737952755905"
      ]
     },
     "execution_count": 127,
     "metadata": {},
     "output_type": "execute_result"
    }
   ],
   "source": [
    "df.Revenue.mean()"
   ]
  },
  {
   "cell_type": "markdown",
   "id": "68651e5f-1b80-4328-8d53-297d72a30488",
   "metadata": {},
   "source": [
    "# avg revenue of Nov and dec month"
   ]
  },
  {
   "cell_type": "code",
   "execution_count": 138,
   "id": "1743184b-af85-47b2-8b34-4ef8886e6bc7",
   "metadata": {},
   "outputs": [],
   "source": [
    "df[\"Month\"] = df[\"Date\"].dt.month"
   ]
  },
  {
   "cell_type": "code",
   "execution_count": 146,
   "id": "156dd1a2-ba39-48c0-a6eb-a9440beb46c4",
   "metadata": {},
   "outputs": [
    {
     "data": {
      "text/plain": [
       "Month\n",
       "11    2938.186903\n",
       "12    3101.307234\n",
       "Name: Revenue, dtype: float64"
      ]
     },
     "execution_count": 146,
     "metadata": {},
     "output_type": "execute_result"
    }
   ],
   "source": [
    "df.groupby(\"Month\")[\"Revenue\"].mean()"
   ]
  },
  {
   "cell_type": "markdown",
   "id": "c847d6fb-f77c-4fd3-a2d4-be4de215e049",
   "metadata": {},
   "source": [
    "# standard deviation of revenue and quality?"
   ]
  },
  {
   "cell_type": "code",
   "execution_count": 151,
   "id": "24326b78-054f-48ff-943d-4bbad492522a",
   "metadata": {},
   "outputs": [
    {
     "data": {
      "text/plain": [
       "2419.9325462715055"
      ]
     },
     "execution_count": 151,
     "metadata": {},
     "output_type": "execute_result"
    }
   ],
   "source": [
    "df[\"Revenue\"].std()"
   ]
  },
  {
   "cell_type": "code",
   "execution_count": 153,
   "id": "48be8d47-d5f8-4719-99f7-b9f42f72923b",
   "metadata": {},
   "outputs": [
    {
     "data": {
      "text/plain": [
       "214.97943096363838"
      ]
     },
     "execution_count": 153,
     "metadata": {},
     "output_type": "execute_result"
    }
   ],
   "source": [
    "df[\"Quantity\"].std()"
   ]
  },
  {
   "cell_type": "code",
   "execution_count": 155,
   "id": "839ff71f-97a1-45f1-a682-d8e68ad23cb5",
   "metadata": {},
   "outputs": [
    {
     "data": {
      "text/html": [
       "<div>\n",
       "<style scoped>\n",
       "    .dataframe tbody tr th:only-of-type {\n",
       "        vertical-align: middle;\n",
       "    }\n",
       "\n",
       "    .dataframe tbody tr th {\n",
       "        vertical-align: top;\n",
       "    }\n",
       "\n",
       "    .dataframe thead th {\n",
       "        text-align: right;\n",
       "    }\n",
       "</style>\n",
       "<table border=\"1\" class=\"dataframe\">\n",
       "  <thead>\n",
       "    <tr style=\"text-align: right;\">\n",
       "      <th></th>\n",
       "      <th>count</th>\n",
       "      <th>mean</th>\n",
       "      <th>min</th>\n",
       "      <th>25%</th>\n",
       "      <th>50%</th>\n",
       "      <th>75%</th>\n",
       "      <th>max</th>\n",
       "      <th>std</th>\n",
       "    </tr>\n",
       "    <tr>\n",
       "      <th>0</th>\n",
       "      <th></th>\n",
       "      <th></th>\n",
       "      <th></th>\n",
       "      <th></th>\n",
       "      <th></th>\n",
       "      <th></th>\n",
       "      <th></th>\n",
       "      <th></th>\n",
       "    </tr>\n",
       "  </thead>\n",
       "  <tbody>\n",
       "    <tr>\n",
       "      <th>Order ID</th>\n",
       "      <td>254.0</td>\n",
       "      <td>10584.133858</td>\n",
       "      <td>10452.0</td>\n",
       "      <td>10520.25</td>\n",
       "      <td>10583.5</td>\n",
       "      <td>10649.75</td>\n",
       "      <td>10713.0</td>\n",
       "      <td>75.889181</td>\n",
       "    </tr>\n",
       "    <tr>\n",
       "      <th>Date</th>\n",
       "      <td>254</td>\n",
       "      <td>2022-12-03 10:23:37.322834688</td>\n",
       "      <td>2022-11-07 00:00:00</td>\n",
       "      <td>2022-11-21 00:00:00</td>\n",
       "      <td>2022-12-03 00:00:00</td>\n",
       "      <td>2022-12-16 18:00:00</td>\n",
       "      <td>2022-12-29 00:00:00</td>\n",
       "      <td>NaN</td>\n",
       "    </tr>\n",
       "    <tr>\n",
       "      <th>Price</th>\n",
       "      <td>254.0</td>\n",
       "      <td>7.102323</td>\n",
       "      <td>2.95</td>\n",
       "      <td>3.49</td>\n",
       "      <td>4.99</td>\n",
       "      <td>9.95</td>\n",
       "      <td>29.05</td>\n",
       "      <td>4.341855</td>\n",
       "    </tr>\n",
       "    <tr>\n",
       "      <th>Quantity</th>\n",
       "      <td>254.0</td>\n",
       "      <td>460.480315</td>\n",
       "      <td>200.0</td>\n",
       "      <td>201.0</td>\n",
       "      <td>539.0</td>\n",
       "      <td>677.0</td>\n",
       "      <td>754.0</td>\n",
       "      <td>214.979431</td>\n",
       "    </tr>\n",
       "    <tr>\n",
       "      <th>Revenue</th>\n",
       "      <td>254.0</td>\n",
       "      <td>3028.737953</td>\n",
       "      <td>998.0</td>\n",
       "      <td>1999.95</td>\n",
       "      <td>2099.4</td>\n",
       "      <td>2401.12</td>\n",
       "      <td>16065.0</td>\n",
       "      <td>2419.932546</td>\n",
       "    </tr>\n",
       "    <tr>\n",
       "      <th>Month</th>\n",
       "      <td>254.0</td>\n",
       "      <td>11.555118</td>\n",
       "      <td>11.0</td>\n",
       "      <td>11.0</td>\n",
       "      <td>12.0</td>\n",
       "      <td>12.0</td>\n",
       "      <td>12.0</td>\n",
       "      <td>0.497934</td>\n",
       "    </tr>\n",
       "  </tbody>\n",
       "</table>\n",
       "</div>"
      ],
      "text/plain": [
       "          count                           mean                  min  \\\n",
       "0                                                                     \n",
       "Order ID  254.0                   10584.133858              10452.0   \n",
       "Date        254  2022-12-03 10:23:37.322834688  2022-11-07 00:00:00   \n",
       "Price     254.0                       7.102323                 2.95   \n",
       "Quantity  254.0                     460.480315                200.0   \n",
       "Revenue   254.0                    3028.737953                998.0   \n",
       "Month     254.0                      11.555118                 11.0   \n",
       "\n",
       "                          25%                  50%                  75%  \\\n",
       "0                                                                         \n",
       "Order ID             10520.25              10583.5             10649.75   \n",
       "Date      2022-11-21 00:00:00  2022-12-03 00:00:00  2022-12-16 18:00:00   \n",
       "Price                    3.49                 4.99                 9.95   \n",
       "Quantity                201.0                539.0                677.0   \n",
       "Revenue               1999.95               2099.4              2401.12   \n",
       "Month                    11.0                 12.0                 12.0   \n",
       "\n",
       "                          max          std  \n",
       "0                                           \n",
       "Order ID              10713.0    75.889181  \n",
       "Date      2022-12-29 00:00:00          NaN  \n",
       "Price                   29.05     4.341855  \n",
       "Quantity                754.0   214.979431  \n",
       "Revenue               16065.0  2419.932546  \n",
       "Month                    12.0     0.497934  "
      ]
     },
     "execution_count": 155,
     "metadata": {},
     "output_type": "execute_result"
    }
   ],
   "source": [
    "df.describe().T"
   ]
  },
  {
   "cell_type": "markdown",
   "id": "722c4ebe-72a1-40bf-b561-33ef6405ad8b",
   "metadata": {},
   "source": [
    "# variance of Revenue & Quantity"
   ]
  },
  {
   "cell_type": "code",
   "execution_count": 160,
   "id": "b12dcb3b-0a66-404e-b7d1-90c9cd2b4936",
   "metadata": {},
   "outputs": [
    {
     "data": {
      "text/plain": [
       "5856073.528504092"
      ]
     },
     "execution_count": 160,
     "metadata": {},
     "output_type": "execute_result"
    }
   ],
   "source": [
    "df[\"Revenue\"].var()"
   ]
  },
  {
   "cell_type": "code",
   "execution_count": 162,
   "id": "b7e5042c-a181-4aad-bd59-567788783a73",
   "metadata": {},
   "outputs": [
    {
     "data": {
      "text/plain": [
       "46216.155737449764"
      ]
     },
     "execution_count": 162,
     "metadata": {},
     "output_type": "execute_result"
    }
   ],
   "source": [
    "df.Quantity.var()"
   ]
  },
  {
   "cell_type": "markdown",
   "id": "d00e9073-a4de-4111-962c-81d2858ad0e8",
   "metadata": {},
   "source": [
    "# is revenue increase or decrease over time?"
   ]
  },
  {
   "cell_type": "code",
   "execution_count": 173,
   "id": "e8e74ba0-2e63-4f96-add2-fad2937d5b05",
   "metadata": {},
   "outputs": [
    {
     "data": {
      "text/plain": [
       "Date\n",
       "2022-11-07    1732.823333\n",
       "2022-11-08    3100.505000\n",
       "2022-11-09    2838.856000\n",
       "2022-11-10    3299.070000\n",
       "2022-11-11    2878.642000\n",
       "2022-11-12    2798.104000\n",
       "2022-11-13    5532.394000\n",
       "2022-11-14    3565.924000\n",
       "2022-11-15    2719.348000\n",
       "2022-11-16    2719.348000\n",
       "2022-11-17    2798.104000\n",
       "2022-11-18    2880.156000\n",
       "2022-11-19    2799.618000\n",
       "2022-11-20    4098.090000\n",
       "2022-11-21    2800.768000\n",
       "2022-11-22    2720.230000\n",
       "2022-11-23    2759.200000\n",
       "2022-11-24    2718.716000\n",
       "2022-11-25    2679.746000\n",
       "2022-11-26    2638.178000\n",
       "2022-11-27    2679.746000\n",
       "2022-11-28    2678.596000\n",
       "2022-11-29    2678.596000\n",
       "2022-11-30    2720.164000\n",
       "2022-12-01    2680.378000\n",
       "2022-12-02    2798.104000\n",
       "2022-12-03    2798.104000\n",
       "2022-12-04    4500.780000\n",
       "2022-12-05    2838.856000\n",
       "2022-12-06    2799.886000\n",
       "2022-12-07    2798.104000\n",
       "2022-12-08    2839.672000\n",
       "2022-12-09    2920.210000\n",
       "2022-12-10    2920.210000\n",
       "2022-12-11    2999.300000\n",
       "2022-12-12    2920.210000\n",
       "2022-12-13    2920.210000\n",
       "2022-12-14    2918.442000\n",
       "2022-12-15    2879.472000\n",
       "2022-12-16    3000.130000\n",
       "2022-12-17    3079.584000\n",
       "2022-12-18    3118.554000\n",
       "2022-12-19    3158.608000\n",
       "2022-12-20    3200.176000\n",
       "2022-12-21    3278.116000\n",
       "2022-12-22    3317.916000\n",
       "2022-12-23    3199.856000\n",
       "2022-12-24    3277.796000\n",
       "2022-12-25    3317.596000\n",
       "2022-12-26    3398.964000\n",
       "2022-12-27    3398.964000\n",
       "2022-12-28    3521.292000\n",
       "2022-12-29    4197.302500\n",
       "Name: Revenue, dtype: float64"
      ]
     },
     "execution_count": 173,
     "metadata": {},
     "output_type": "execute_result"
    }
   ],
   "source": [
    "df.groupby(\"Date\")[\"Revenue\"].mean()"
   ]
  },
  {
   "cell_type": "markdown",
   "id": "1a25464f-7dd4-45da-b582-0a0e235c6c75",
   "metadata": {},
   "source": [
    "# average quantity sold & average revenue for each product?"
   ]
  },
  {
   "cell_type": "code",
   "execution_count": 179,
   "id": "904f72b0-a439-47e4-bf03-a45351ad7c4e",
   "metadata": {},
   "outputs": [
    {
     "data": {
      "text/html": [
       "<div>\n",
       "<style scoped>\n",
       "    .dataframe tbody tr th:only-of-type {\n",
       "        vertical-align: middle;\n",
       "    }\n",
       "\n",
       "    .dataframe tbody tr th {\n",
       "        vertical-align: top;\n",
       "    }\n",
       "\n",
       "    .dataframe thead th {\n",
       "        text-align: right;\n",
       "    }\n",
       "</style>\n",
       "<table border=\"1\" class=\"dataframe\">\n",
       "  <thead>\n",
       "    <tr style=\"text-align: right;\">\n",
       "      <th></th>\n",
       "      <th>Quantity</th>\n",
       "      <th>Revenue</th>\n",
       "    </tr>\n",
       "    <tr>\n",
       "      <th>Product</th>\n",
       "      <th></th>\n",
       "      <th></th>\n",
       "    </tr>\n",
       "  </thead>\n",
       "  <tbody>\n",
       "    <tr>\n",
       "      <th>Beverages</th>\n",
       "      <td>699.760000</td>\n",
       "      <td>2064.292000</td>\n",
       "    </tr>\n",
       "    <tr>\n",
       "      <th>Burgers</th>\n",
       "      <td>558.038462</td>\n",
       "      <td>7248.919615</td>\n",
       "    </tr>\n",
       "    <tr>\n",
       "      <th>Chicken Sandwiches</th>\n",
       "      <td>214.096154</td>\n",
       "      <td>2204.085577</td>\n",
       "    </tr>\n",
       "    <tr>\n",
       "      <th>Fries</th>\n",
       "      <td>627.901961</td>\n",
       "      <td>2463.266078</td>\n",
       "    </tr>\n",
       "    <tr>\n",
       "      <th>Sides &amp; Other</th>\n",
       "      <td>200.000000</td>\n",
       "      <td>998.000000</td>\n",
       "    </tr>\n",
       "  </tbody>\n",
       "</table>\n",
       "</div>"
      ],
      "text/plain": [
       "0                     Quantity      Revenue\n",
       "Product                                    \n",
       "Beverages           699.760000  2064.292000\n",
       "Burgers             558.038462  7248.919615\n",
       "Chicken Sandwiches  214.096154  2204.085577\n",
       "Fries               627.901961  2463.266078\n",
       "Sides & Other       200.000000   998.000000"
      ]
     },
     "execution_count": 179,
     "metadata": {},
     "output_type": "execute_result"
    }
   ],
   "source": [
    "df.groupby(\"Product\")[[\"Quantity\", \"Revenue\"]].mean()"
   ]
  },
  {
   "cell_type": "code",
   "execution_count": null,
   "id": "dd5d2d41-4e31-4fe4-8150-7ee0892761fa",
   "metadata": {},
   "outputs": [],
   "source": []
  }
 ],
 "metadata": {
  "kernelspec": {
   "display_name": "Python [conda env:base] *",
   "language": "python",
   "name": "conda-base-py"
  },
  "language_info": {
   "codemirror_mode": {
    "name": "ipython",
    "version": 3
   },
   "file_extension": ".py",
   "mimetype": "text/x-python",
   "name": "python",
   "nbconvert_exporter": "python",
   "pygments_lexer": "ipython3",
   "version": "3.12.7"
  }
 },
 "nbformat": 4,
 "nbformat_minor": 5
}
